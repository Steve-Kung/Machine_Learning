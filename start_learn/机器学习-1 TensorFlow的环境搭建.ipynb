{
 "cells": [
  {
   "cell_type": "markdown",
   "metadata": {},
   "source": [
    "# 机器学习-1 TensorFlow的环境搭建"
   ]
  },
  {
   "cell_type": "markdown",
   "metadata": {},
   "source": [
    "## 机器学习"
   ]
  },
  {
   "cell_type": "markdown",
   "metadata": {},
   "source": [
    "让程序自己能够不断的学习，从而适应解决各种问题；而非程序员自己提前设计好解题步骤。\n",
    "\n",
    "通常理解： `人工智能` > `机器学习` > `深度学习`\n",
    "\n",
    "深度学习通过搭建神经网络来实现机器学习。\n",
    "\n",
    "现阶段比较热门深度学习框架有：PyTorch、TensorFlow、Keras、Caffee等"
   ]
  },
  {
   "cell_type": "markdown",
   "metadata": {},
   "source": [
    "## Tensorflow"
   ]
  },
  {
   "cell_type": "markdown",
   "metadata": {},
   "source": [
    "TensorFlow是Google的开源深度学习框架。其通过数据流图（Data Flow Graph）来描述张量（Tensor）十分直观，因此该深度学习框架也就命名为了TensorFlow。"
   ]
  },
  {
   "cell_type": "markdown",
   "metadata": {},
   "source": [
    "## 硬件软件准备"
   ]
  },
  {
   "cell_type": "markdown",
   "metadata": {},
   "source": [
    "1. 推荐使用带性能较好显卡的电脑，可以明显加快训练时间\n",
    "2. 安装anaconda、pycharm、cuda、cudnn、TensorFlow-gpu、keras"
   ]
  },
  {
   "cell_type": "markdown",
   "metadata": {},
   "source": [
    "## 下载TensorFlow训练好模型"
   ]
  },
  {
   "cell_type": "markdown",
   "metadata": {},
   "source": [
    "Github中的 https://github.com/tensorflow/models 包含着众多已经使用Tensorflow训练好的模型。我们使用git来克隆下来这个仓库，并供下一节课使用这些模型。\n",
    "\n",
    "新建一个名为tensorflow的文件夹，使用如下命令克隆上述的仓库"
   ]
  },
  {
   "cell_type": "raw",
   "metadata": {},
   "source": [
    "git clone https://github.com/tensorflow/models"
   ]
  },
  {
   "cell_type": "markdown",
   "metadata": {},
   "source": [
    "克隆完成之后，当前工作目录中会出现一个名为models的文件夹。\n",
    "\n",
    "下一节中，我们将实现通过摄像头来捕捉画面，并使用TensorFlow的Object Detection API来实现常用物体的动态识别。"
   ]
  }
 ],
 "metadata": {
  "kernelspec": {
   "display_name": "python base",
   "language": "python",
   "name": "base"
  },
  "language_info": {
   "codemirror_mode": {
    "name": "ipython",
    "version": 3
   },
   "file_extension": ".py",
   "mimetype": "text/x-python",
   "name": "python",
   "nbconvert_exporter": "python",
   "pygments_lexer": "ipython3",
   "version": "3.5.2"
  }
 },
 "nbformat": 4,
 "nbformat_minor": 1
}
